{
 "cells": [
  {
   "cell_type": "code",
   "execution_count": 19,
   "id": "21a2db20-ddae-40f2-ac3c-927d55dd973b",
   "metadata": {},
   "outputs": [],
   "source": [
    "import pandas as pd\n",
    "import numpy as np\n",
    "from numpy.random import randn"
   ]
  },
  {
   "cell_type": "code",
   "execution_count": 1,
   "id": "55b21bea-04e3-4bea-a164-d229642fb34d",
   "metadata": {},
   "outputs": [
    {
     "name": "stdout",
     "output_type": "stream",
     "text": [
      "4\n"
     ]
    }
   ],
   "source": [
    "\n",
    "#series"
   ]
  },
  {
   "cell_type": "code",
   "execution_count": 7,
   "id": "42aab3e8-947f-4e3a-acd8-4e97daa154b9",
   "metadata": {},
   "outputs": [
    {
     "name": "stdout",
     "output_type": "stream",
     "text": [
      "0    4\n",
      "1    5\n",
      "2    2\n",
      "3    4\n",
      "4    2\n",
      "dtype: int64\n"
     ]
    }
   ],
   "source": [
    "my_series=[4,5,2,4,2]\n",
    "my_var=pd.Series(my_series)\n",
    "print(my_var)"
   ]
  },
  {
   "cell_type": "code",
   "execution_count": 8,
   "id": "f143c981-c8cd-4d25-a96d-3490c35efa1c",
   "metadata": {},
   "outputs": [
    {
     "name": "stdout",
     "output_type": "stream",
     "text": [
      "5\n"
     ]
    }
   ],
   "source": [
    "print(my_var[1])"
   ]
  },
  {
   "cell_type": "code",
   "execution_count": 11,
   "id": "24e1b766-3a5e-44b8-854c-aef7d5f0e2a6",
   "metadata": {},
   "outputs": [
    {
     "name": "stdout",
     "output_type": "stream",
     "text": [
      "a    4\n",
      "b    5\n",
      "c    2\n",
      "d    4\n",
      "e    2\n",
      "dtype: int64\n"
     ]
    }
   ],
   "source": [
    "my_index=['a','b','c','d','e']\n",
    "myvar2=pd.Series(my_series,my_index)\n",
    "print(myvar2)"
   ]
  },
  {
   "cell_type": "code",
   "execution_count": 14,
   "id": "5eb5b4b7-0c59-40b3-9fc6-461c8d141c6e",
   "metadata": {},
   "outputs": [
    {
     "name": "stdout",
     "output_type": "stream",
     "text": [
      "5\n",
      "5\n"
     ]
    }
   ],
   "source": [
    "print(myvar2['b'])\n",
    "print(myvar2['b'])\n"
   ]
  },
  {
   "cell_type": "code",
   "execution_count": 18,
   "id": "a1a6ddb2-441e-4f03-8eab-bf019bafc56d",
   "metadata": {},
   "outputs": [
    {
     "name": "stdout",
     "output_type": "stream",
     "text": [
      "name    hammad\n",
      "age         23\n",
      "dtype: object\n"
     ]
    }
   ],
   "source": [
    "mydict={\"name\":\"hammad\",\"age\":23}\n",
    "myseries2=pd.Series(mydict)\n",
    "print(myseries2)"
   ]
  },
  {
   "cell_type": "code",
   "execution_count": 32,
   "id": "6e58af82-4a81-4104-85e6-b8c76c05d590",
   "metadata": {},
   "outputs": [
    {
     "data": {
      "text/html": [
       "<div>\n",
       "<style scoped>\n",
       "    .dataframe tbody tr th:only-of-type {\n",
       "        vertical-align: middle;\n",
       "    }\n",
       "\n",
       "    .dataframe tbody tr th {\n",
       "        vertical-align: top;\n",
       "    }\n",
       "\n",
       "    .dataframe thead th {\n",
       "        text-align: right;\n",
       "    }\n",
       "</style>\n",
       "<table border=\"1\" class=\"dataframe\">\n",
       "  <thead>\n",
       "    <tr style=\"text-align: right;\">\n",
       "      <th></th>\n",
       "      <th>Index</th>\n",
       "      <th>Customer Id</th>\n",
       "      <th>First Name</th>\n",
       "      <th>Last Name</th>\n",
       "      <th>Company</th>\n",
       "      <th>City</th>\n",
       "      <th>Country</th>\n",
       "      <th>Phone 1</th>\n",
       "      <th>Phone 2</th>\n",
       "      <th>Email</th>\n",
       "      <th>Subscription Date</th>\n",
       "      <th>Website</th>\n",
       "    </tr>\n",
       "  </thead>\n",
       "  <tbody>\n",
       "    <tr>\n",
       "      <th>0</th>\n",
       "      <td>1</td>\n",
       "      <td>e685B8690f9fbce</td>\n",
       "      <td>Erik</td>\n",
       "      <td>Little</td>\n",
       "      <td>Blankenship PLC</td>\n",
       "      <td>Caitlynmouth</td>\n",
       "      <td>Sao Tome and Principe</td>\n",
       "      <td>457-542-6899</td>\n",
       "      <td>055.415.2664x5425</td>\n",
       "      <td>shanehester@campbell.org</td>\n",
       "      <td>2021-12-23</td>\n",
       "      <td>https://wagner.com/</td>\n",
       "    </tr>\n",
       "    <tr>\n",
       "      <th>5</th>\n",
       "      <td>6</td>\n",
       "      <td>f6bEf85f1c0Ab8C</td>\n",
       "      <td>Madison</td>\n",
       "      <td>Schwartz</td>\n",
       "      <td>Weaver-Carpenter</td>\n",
       "      <td>Ewingside</td>\n",
       "      <td>British Virgin Islands</td>\n",
       "      <td>279-998-9650x1470</td>\n",
       "      <td>001-460-269-6344x185</td>\n",
       "      <td>hmcconnell@wheeler.com</td>\n",
       "      <td>2021-08-05</td>\n",
       "      <td>http://www.mooney.com/</td>\n",
       "    </tr>\n",
       "  </tbody>\n",
       "</table>\n",
       "</div>"
      ],
      "text/plain": [
       "   Index      Customer Id First Name Last Name           Company  \\\n",
       "0      1  e685B8690f9fbce       Erik    Little   Blankenship PLC   \n",
       "5      6  f6bEf85f1c0Ab8C    Madison  Schwartz  Weaver-Carpenter   \n",
       "\n",
       "           City                 Country            Phone 1  \\\n",
       "0  Caitlynmouth   Sao Tome and Principe       457-542-6899   \n",
       "5     Ewingside  British Virgin Islands  279-998-9650x1470   \n",
       "\n",
       "                Phone 2                     Email Subscription Date  \\\n",
       "0     055.415.2664x5425  shanehester@campbell.org        2021-12-23   \n",
       "5  001-460-269-6344x185    hmcconnell@wheeler.com        2021-08-05   \n",
       "\n",
       "                  Website  \n",
       "0     https://wagner.com/  \n",
       "5  http://www.mooney.com/  "
      ]
     },
     "execution_count": 32,
     "metadata": {},
     "output_type": "execute_result"
    }
   ],
   "source": [
    "#Data Frames\n",
    "my_data=randn(4,3) #rows, cols\n",
    "my_rows=[\"A\",\"B\",\"C\",\"D\"]\n",
    "mycols=[\"MON\",\"TUES\",\"WED\"]\n",
    "#create dataframe\n",
    "mydf=pd.DataFrame(my_data,my_rows,mycols)\n",
    "mydf\n",
    "\n",
    "#import csv file\n",
    "mydf2=pd.read_csv('cus.csv')\n",
    "#pulling data\n",
    "mydf2.loc[[0,5]]\n",
    "\n",
    "# pulling data in different ways\n",
    "\n",
    "\n",
    "\n",
    "\n"
   ]
  },
  {
   "cell_type": "code",
   "execution_count": null,
   "id": "15f9a055-9292-4ff2-800b-05510f03ac63",
   "metadata": {},
   "outputs": [],
   "source": []
  }
 ],
 "metadata": {
  "kernelspec": {
   "display_name": "Python 3 (ipykernel)",
   "language": "python",
   "name": "python3"
  },
  "language_info": {
   "codemirror_mode": {
    "name": "ipython",
    "version": 3
   },
   "file_extension": ".py",
   "mimetype": "text/x-python",
   "name": "python",
   "nbconvert_exporter": "python",
   "pygments_lexer": "ipython3",
   "version": "3.12.6"
  }
 },
 "nbformat": 4,
 "nbformat_minor": 5
}
